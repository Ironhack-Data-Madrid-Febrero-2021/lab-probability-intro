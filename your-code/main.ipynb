{
 "cells": [
  {
   "cell_type": "markdown",
   "metadata": {},
   "source": [
    "# Probability\n",
    "## Challenge 1\n",
    "\n",
    "A and B are events of a probability such that $P(A) = 0.3$, $P(B) = 0.6$ and $P(A \\cap B) = 0.1$\n",
    "\n",
    "Which of the following statements are true?  \n",
    "**HINT: draw a big Venn Diagram by your side**  \n",
    "* $P(\\overline{A}) = 0.7$\n",
    "* $P(A \\cup B) = 0.6$\n",
    "* $P(A \\cap \\overline{B}) = 0.2$\n",
    "* $P(A \\cup \\overline{A}) = 1$  \n",
    "* $P(A \\cap (B \\cup \\overline{B})) = 0.4$\n",
    "* $P(\\overline{A} \\cap \\overline{B}) = 0.3$\n",
    "* $P(\\overline{A \\cap B}) = 0.9$"
   ]
  },
  {
   "cell_type": "markdown",
   "metadata": {},
   "source": [
    "$P(\\overline{A}) = 0.7$ is TRUE, because it is the result of the following equation: 1- P(A) \n",
    "\n",
    "$P(A \\cup B) = 0.6$ is FALSE, its correct value would be 0,8\n",
    "\n",
    "$P(A \\cap \\overline{B}) = 0.2$ is TRUE, because it is the result of $P(A) = 0.3$ - $P(A \\cap B) = 0.1$\n",
    "\n",
    "$P(A \\cup \\overline{A}) = 1$ is TRUE, because $P(A) = 0.3$ + $P(\\overline{A}) = 0.7$\n",
    "\n",
    "$P(A \\cap (B \\cup \\overline{B})) = 0.4$ is TRUE, because $P(A) = 0.3$ + (𝐴∩𝐵)=0.1\n",
    "\n",
    "$P(\\overline{A} \\cap \\overline{B}) = 0.3$ is FALSE, its correct value would be 0,2 $P(\\overline{A \\cup B})$\n",
    "\n",
    "$P(\\overline{A \\cap B}) = 0.9$ is TRUE, based on $(\\overline{A}) \\cup (\\overline{B})$"
   ]
  },
  {
   "cell_type": "markdown",
   "metadata": {},
   "source": [
    "- False, 𝑃(𝐴⎯⎯⎯⎯) = 0,6"
   ]
  },
  {
   "cell_type": "markdown",
   "metadata": {},
   "source": [
    "- False, 𝑃(𝐴∪𝐵) = 1"
   ]
  },
  {
   "cell_type": "markdown",
   "metadata": {},
   "source": [
    "## Challenge 2\n",
    "There is a box with 10 white balls, 12 red balls and 8 black balls. Calculate the probability of:\n",
    "* Taking a white ball out.\n",
    "* Taking a white ball on first extraction and a black ball out on second extraction without replacing the first one.\n",
    "* Taking a white ball on first extraction and a black ball out on second extraction replacing the first one.\n",
    "* Taking 3 balls and them being all different colours."
   ]
  },
  {
   "cell_type": "code",
   "execution_count": 5,
   "metadata": {},
   "outputs": [],
   "source": [
    "import random"
   ]
  },
  {
   "cell_type": "markdown",
   "metadata": {},
   "source": [
    "* P(White) = 10/30\n",
    "* P(Red) = 12/30\n",
    "* P(Black) = 8/30"
   ]
  },
  {
   "cell_type": "code",
   "execution_count": 38,
   "metadata": {
    "scrolled": true
   },
   "outputs": [],
   "source": [
    "PW = 10/30"
   ]
  },
  {
   "cell_type": "code",
   "execution_count": 39,
   "metadata": {},
   "outputs": [],
   "source": [
    "PR = 12/30"
   ]
  },
  {
   "cell_type": "code",
   "execution_count": 40,
   "metadata": {},
   "outputs": [],
   "source": [
    "PB = 8/30"
   ]
  },
  {
   "cell_type": "code",
   "execution_count": 62,
   "metadata": {},
   "outputs": [],
   "source": [
    "sample_space = ['R', 'R', 'R', 'R', 'R', 'R', 'R', 'R', 'R', 'R', 'R', 'R', \n",
    "                'B', 'B', 'B', 'B', 'B', 'B', 'B', 'B',\n",
    "                'W', 'W', 'W', 'W',' W', 'W', 'W', 'W', 'W', 'W']"
   ]
  },
  {
   "cell_type": "code",
   "execution_count": 63,
   "metadata": {},
   "outputs": [
    {
     "name": "stdout",
     "output_type": "stream",
     "text": [
      "the probability of Taking a white ball out is: 0.3333333333333333\n"
     ]
    }
   ],
   "source": [
    "print('the probability of taking a white ball out is:', PW)"
   ]
  },
  {
   "cell_type": "code",
   "execution_count": 65,
   "metadata": {},
   "outputs": [
    {
     "name": "stdout",
     "output_type": "stream",
     "text": [
      "the probability of Taking a white ball on first extraction and a black ball out on second extraction without replacing the first one is: 0.09195402298850575\n"
     ]
    }
   ],
   "source": [
    "result1 = PW * (8/29)\n",
    "\n",
    "print('the probability of Taking a white ball on first extraction and a black ball out on second extraction without replacing the first one is:', result1)"
   ]
  },
  {
   "cell_type": "code",
   "execution_count": 66,
   "metadata": {},
   "outputs": [
    {
     "name": "stdout",
     "output_type": "stream",
     "text": [
      "The probability of taking a white ball on first extraction and a black ball out on second extraction replacing the first one is: 0.08888888888888888\n"
     ]
    }
   ],
   "source": [
    "new = PW * PB\n",
    "print('The probability of taking a white ball on first extraction and a black ball out on second extraction replacing the first one is:', new)"
   ]
  },
  {
   "cell_type": "code",
   "execution_count": 42,
   "metadata": {},
   "outputs": [
    {
     "name": "stdout",
     "output_type": "stream",
     "text": [
      "The probability of taking 3 balls and them being all different colours would be: 0.035555555555555556\n"
     ]
    }
   ],
   "source": [
    "DC = PW * PR * PB\n",
    "print('The probability of taking 3 balls and them being all different colours would be:', DC)"
   ]
  },
  {
   "cell_type": "markdown",
   "metadata": {},
   "source": [
    "## Challenge 3\n",
    "\n",
    "You are planning to go on a picnic today but the morning is cloudy. You hate rain so you don't know whether to go out or stay home! To help you make a decision, you gather the following data about rainy days:\n",
    "\n",
    "* 50% of all rainy days start off cloudy!\n",
    "* Cloudy mornings are common. About 40% of days start cloudy. \n",
    "* This month is usually dry so only 3 of 30 days (10%) tend to be rainy. \n",
    "\n",
    "What is the chance of rain during the day?"
   ]
  },
  {
   "cell_type": "code",
   "execution_count": null,
   "metadata": {},
   "outputs": [],
   "source": [
    "#based on the premise that this month is usually dry "
   ]
  },
  {
   "cell_type": "code",
   "execution_count": 71,
   "metadata": {},
   "outputs": [
    {
     "name": "stdout",
     "output_type": "stream",
     "text": [
      "As the probability of rain during the day would be: 0.205, the chances are significantly low, and I would personally go out\n"
     ]
    }
   ],
   "source": [
    "sample_space2 = ['R', 'R', 'R', 'R', 'R', 'R',\n",
    "                 'D', 'D', 'D', 'D', 'D', 'D', 'D', 'D', 'D', 'D', 'D', 'D', 'D', 'D', 'D', 'D', 'D', 'D', 'D', 'D', 'D', 'D', 'D', 'D']\n",
    "\n",
    "draws = random.choices(sample_space2, k=1000)\n",
    "print(f'As the probability of rain during the day would be: {draws.count(\"R\") / len(draws)}, the chances are significantly low, and I would personally go out')"
   ]
  },
  {
   "cell_type": "markdown",
   "metadata": {},
   "source": [
    "## Challenge 4\n",
    "\n",
    " * If someone flies to China, the probability of getting Covid is 1%  \n",
    " * If someone flies to Italy, the probability of getting Covid is 20%  \n",
    "\n",
    "I roll 1 dice with numbers 1, 2, 3, 4, 5, 6:  \n",
    " * If 1: I fly to Italy\n",
    " * If not 1: I fly to China\n",
    "\n",
    "During my trip, I got Covid. What is the probability that I flew to China?"
   ]
  },
  {
   "cell_type": "code",
   "execution_count": 92,
   "metadata": {},
   "outputs": [
    {
     "name": "stdout",
     "output_type": "stream",
     "text": [
      "1 0.2\n",
      "2 0.0\n",
      "3 0.0\n",
      "4 0.1\n",
      "5 0.3\n",
      "6 0.2\n"
     ]
    }
   ],
   "source": [
    "# your code here\n",
    "\n",
    "sample_space3 = [1, 2, 3, 4, 5, 6]\n",
    "\n",
    "gettingC_china = 0.01\n",
    "gettingC_italy = 0.2\n",
    "\n",
    "PI = 1/6\n",
    "PC = 5/6\n",
    "\n",
    "rolls = random.choices(sample_space3, k=10)\n",
    "\n",
    "frequency_ones = rolls.count(1) / len(rolls)\n",
    "print(1, frequency_ones)\n",
    "\n",
    "frequency_twos = rolls.count(2) / len(rolls)\n",
    "print(2, frequency_twos)\n",
    "\n",
    "frequency_threes = rolls.count(2) / len(rolls)\n",
    "print(3, frequency_threes)\n",
    "\n",
    "frequency_fours = rolls.count(4) / len(rolls)\n",
    "print(4, frequency_fours)\n",
    "\n",
    "frequency_fives = rolls.count(5) / len(rolls)\n",
    "print(5, frequency_fives)\n",
    "\n",
    "frequency_sixs = rolls.count(6) / len(rolls)\n",
    "print(6, frequency_sixs)"
   ]
  },
  {
   "cell_type": "markdown",
   "metadata": {},
   "source": [
    "The probability of this person flying to China (5/6) is unquestionably higher than the probability of flying to Italy (1/6) based on the number obtained by rolling the dice and accordingly to the statements presented previously."
   ]
  },
  {
   "cell_type": "markdown",
   "metadata": {},
   "source": [
    "## BONUS\n",
    "\n",
    "You roll 2 dice. What is the probability that the sum of the numbers is 7? And 8? And 9? Then simulate 10000 times and draw a histogram."
   ]
  },
  {
   "cell_type": "markdown",
   "metadata": {},
   "source": [
    "your explanation here"
   ]
  },
  {
   "cell_type": "code",
   "execution_count": null,
   "metadata": {},
   "outputs": [],
   "source": [
    "# your code here"
   ]
  },
  {
   "cell_type": "code",
   "execution_count": null,
   "metadata": {},
   "outputs": [],
   "source": [
    "\"\"\"\n",
    "your solution here\n",
    "\"\"\""
   ]
  }
 ],
 "metadata": {
  "kernelspec": {
   "display_name": "Python 3",
   "language": "python",
   "name": "python3"
  },
  "language_info": {
   "codemirror_mode": {
    "name": "ipython",
    "version": 3
   },
   "file_extension": ".py",
   "mimetype": "text/x-python",
   "name": "python",
   "nbconvert_exporter": "python",
   "pygments_lexer": "ipython3",
   "version": "3.8.5"
  },
  "toc": {
   "base_numbering": 1,
   "nav_menu": {},
   "number_sections": false,
   "sideBar": true,
   "skip_h1_title": false,
   "title_cell": "Table of Contents",
   "title_sidebar": "Contents",
   "toc_cell": false,
   "toc_position": {
    "height": "calc(100% - 180px)",
    "left": "10px",
    "top": "150px",
    "width": "296.475px"
   },
   "toc_section_display": true,
   "toc_window_display": false
  },
  "varInspector": {
   "cols": {
    "lenName": 16,
    "lenType": 16,
    "lenVar": 40
   },
   "kernels_config": {
    "python": {
     "delete_cmd_postfix": "",
     "delete_cmd_prefix": "del ",
     "library": "var_list.py",
     "varRefreshCmd": "print(var_dic_list())"
    },
    "r": {
     "delete_cmd_postfix": ") ",
     "delete_cmd_prefix": "rm(",
     "library": "var_list.r",
     "varRefreshCmd": "cat(var_dic_list()) "
    }
   },
   "types_to_exclude": [
    "module",
    "function",
    "builtin_function_or_method",
    "instance",
    "_Feature"
   ],
   "window_display": false
  }
 },
 "nbformat": 4,
 "nbformat_minor": 2
}
